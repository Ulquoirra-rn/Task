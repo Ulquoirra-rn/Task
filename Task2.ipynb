{
  "nbformat": 4,
  "nbformat_minor": 0,
  "metadata": {
    "colab": {
      "provenance": [],
      "collapsed_sections": [],
      "mount_file_id": "1wJ48-ABMQe-BsSAuAwN37gNUygYjYwnp",
      "authorship_tag": "ABX9TyOgaMw1RQ12r8EPgUnodopS",
      "include_colab_link": true
    },
    "kernelspec": {
      "name": "python3",
      "display_name": "Python 3"
    },
    "language_info": {
      "name": "python"
    },
    "gpuClass": "standard"
  },
  "cells": [
    {
      "cell_type": "markdown",
      "metadata": {
        "id": "view-in-github",
        "colab_type": "text"
      },
      "source": [
        "<a href=\"https://colab.research.google.com/github/Ulquoirra-rn/Task/blob/main/Task2.ipynb\" target=\"_parent\"><img src=\"https://colab.research.google.com/assets/colab-badge.svg\" alt=\"Open In Colab\"/></a>"
      ]
    },
    {
      "cell_type": "code",
      "metadata": {
        "id": "m33y3rtZtHyk"
      },
      "source": [
        "import nibabel as nib\n",
        "img=nib.load('/content/drive/MyDrive/Colab Notebooks/Bsightai/Task2/t1w.nii')"
      ],
      "execution_count": null,
      "outputs": []
    },
    {
      "cell_type": "code",
      "source": [
        "img.shape"
      ],
      "metadata": {
        "id": "XUCBAHr_D-uJ",
        "colab": {
          "base_uri": "https://localhost:8080/"
        },
        "outputId": "dae3724e-e287-4a9b-b99f-219fc289494d"
      },
      "execution_count": null,
      "outputs": [
        {
          "output_type": "execute_result",
          "data": {
            "text/plain": [
              "(91, 109, 91)"
            ]
          },
          "metadata": {},
          "execution_count": 36
        }
      ]
    },
    {
      "cell_type": "code",
      "source": [
        "img.affine.shape"
      ],
      "metadata": {
        "id": "f_V9EsKlEsyl",
        "colab": {
          "base_uri": "https://localhost:8080/"
        },
        "outputId": "8dd368d4-34cd-49f1-f4a9-765407112f59"
      },
      "execution_count": null,
      "outputs": [
        {
          "output_type": "execute_result",
          "data": {
            "text/plain": [
              "(4, 4)"
            ]
          },
          "metadata": {},
          "execution_count": 37
        }
      ]
    },
    {
      "cell_type": "code",
      "source": [
        "type(img)"
      ],
      "metadata": {
        "id": "H4PPG68_E3w5",
        "colab": {
          "base_uri": "https://localhost:8080/"
        },
        "outputId": "f48983bb-2513-4c36-d4ae-e1bf6a6c83f7"
      },
      "execution_count": null,
      "outputs": [
        {
          "output_type": "execute_result",
          "data": {
            "text/plain": [
              "nibabel.nifti1.Nifti1Image"
            ]
          },
          "metadata": {},
          "execution_count": 38
        }
      ]
    },
    {
      "cell_type": "code",
      "source": [
        "data = img.get_fdata()\n",
        "data.shape"
      ],
      "metadata": {
        "id": "lqmy-kVOFHli",
        "colab": {
          "base_uri": "https://localhost:8080/"
        },
        "outputId": "3bb9bcb9-d08c-4f3d-b7a2-f065203a75f4"
      },
      "execution_count": null,
      "outputs": [
        {
          "output_type": "execute_result",
          "data": {
            "text/plain": [
              "(91, 109, 91)"
            ]
          },
          "metadata": {},
          "execution_count": 39
        }
      ]
    },
    {
      "cell_type": "code",
      "source": [
        "type(data)"
      ],
      "metadata": {
        "id": "igiigYpVFgdB",
        "colab": {
          "base_uri": "https://localhost:8080/"
        },
        "outputId": "68e6ce16-fc88-425f-b214-c1170d5869d8"
      },
      "execution_count": null,
      "outputs": [
        {
          "output_type": "execute_result",
          "data": {
            "text/plain": [
              "numpy.memmap"
            ]
          },
          "metadata": {},
          "execution_count": 40
        }
      ]
    },
    {
      "cell_type": "code",
      "source": [
        "!pip install nilearn\n",
        "import nilearn"
      ],
      "metadata": {
        "id": "e_6_Y24Pbzuw",
        "colab": {
          "base_uri": "https://localhost:8080/"
        },
        "outputId": "b49815f5-0e5d-44f8-ab1a-0e95c9768911"
      },
      "execution_count": null,
      "outputs": [
        {
          "output_type": "stream",
          "name": "stdout",
          "text": [
            "Looking in indexes: https://pypi.org/simple, https://us-python.pkg.dev/colab-wheels/public/simple/\n",
            "Requirement already satisfied: nilearn in /usr/local/lib/python3.7/dist-packages (0.9.1)\n",
            "Requirement already satisfied: joblib>=0.15 in /usr/local/lib/python3.7/dist-packages (from nilearn) (1.1.0)\n",
            "Requirement already satisfied: scikit-learn>=0.22 in /usr/local/lib/python3.7/dist-packages (from nilearn) (1.0.2)\n",
            "Requirement already satisfied: nibabel>=3.0.0 in /usr/local/lib/python3.7/dist-packages (from nilearn) (3.0.2)\n",
            "Requirement already satisfied: scipy>=1.5 in /usr/local/lib/python3.7/dist-packages (from nilearn) (1.7.3)\n",
            "Requirement already satisfied: requests>=2 in /usr/local/lib/python3.7/dist-packages (from nilearn) (2.23.0)\n",
            "Requirement already satisfied: pandas>=1.0 in /usr/local/lib/python3.7/dist-packages (from nilearn) (1.3.5)\n",
            "Requirement already satisfied: lxml in /usr/local/lib/python3.7/dist-packages (from nilearn) (4.9.1)\n",
            "Requirement already satisfied: numpy>=1.18 in /usr/local/lib/python3.7/dist-packages (from nilearn) (1.21.6)\n",
            "Requirement already satisfied: pytz>=2017.3 in /usr/local/lib/python3.7/dist-packages (from pandas>=1.0->nilearn) (2022.1)\n",
            "Requirement already satisfied: python-dateutil>=2.7.3 in /usr/local/lib/python3.7/dist-packages (from pandas>=1.0->nilearn) (2.8.2)\n",
            "Requirement already satisfied: six>=1.5 in /usr/local/lib/python3.7/dist-packages (from python-dateutil>=2.7.3->pandas>=1.0->nilearn) (1.15.0)\n",
            "Requirement already satisfied: chardet<4,>=3.0.2 in /usr/local/lib/python3.7/dist-packages (from requests>=2->nilearn) (3.0.4)\n",
            "Requirement already satisfied: urllib3!=1.25.0,!=1.25.1,<1.26,>=1.21.1 in /usr/local/lib/python3.7/dist-packages (from requests>=2->nilearn) (1.24.3)\n",
            "Requirement already satisfied: idna<3,>=2.5 in /usr/local/lib/python3.7/dist-packages (from requests>=2->nilearn) (2.10)\n",
            "Requirement already satisfied: certifi>=2017.4.17 in /usr/local/lib/python3.7/dist-packages (from requests>=2->nilearn) (2022.6.15)\n",
            "Requirement already satisfied: threadpoolctl>=2.0.0 in /usr/local/lib/python3.7/dist-packages (from scikit-learn>=0.22->nilearn) (3.1.0)\n"
          ]
        }
      ]
    },
    {
      "cell_type": "code",
      "source": [
        "from nilearn import plotting"
      ],
      "metadata": {
        "id": "rAkjQI2ebp_1"
      },
      "execution_count": null,
      "outputs": []
    },
    {
      "cell_type": "code",
      "source": [
        "display = plotting.plot_stat_map(img)"
      ],
      "metadata": {
        "id": "UnOcZM19bwwB",
        "colab": {
          "base_uri": "https://localhost:8080/",
          "height": 218
        },
        "outputId": "60b129a4-bb0d-48d6-e60b-6d2ee3d13e1f"
      },
      "execution_count": null,
      "outputs": [
        {
          "output_type": "display_data",
          "data": {
            "text/plain": [
              "<Figure size 525.6x187.2 with 5 Axes>"
            ],
            "image/png": "[encoded data removed]"
          },
          "metadata": {}
        }
      ]
    },
    {
      "cell_type": "code",
      "source": [
        "display.close"
      ],
      "metadata": {
        "id": "Ru_HNGRxcK9X",
        "colab": {
          "base_uri": "https://localhost:8080/"
        },
        "outputId": "74c1c983-d8c5-4a53-c509-df57bb4d62a0"
      },
      "execution_count": null,
      "outputs": [
        {
          "output_type": "execute_result",
          "data": {
            "text/plain": [
              "<bound method BaseSlicer.close of <nilearn.plotting.displays._slicers.OrthoSlicer object at 0x7f3a1b5006d0>>"
            ]
          },
          "metadata": {},
          "execution_count": 44
        }
      ]
    },
    {
      "cell_type": "code",
      "source": [
        "from nilearn.maskers import NiftiMasker"
      ],
      "metadata": {
        "id": "ng0DGLwMcPiR"
      },
      "execution_count": null,
      "outputs": []
    },
    {
      "cell_type": "code",
      "source": [
        "masker = NiftiMasker()\n",
        "img_mask = masker.fit_transform(img)"
      ],
      "metadata": {
        "id": "xF74jzpWdeIh"
      },
      "execution_count": null,
      "outputs": []
    },
    {
      "cell_type": "code",
      "source": [
        "img_mask"
      ],
      "metadata": {
        "id": "9qNH3R2AglYy",
        "colab": {
          "base_uri": "https://localhost:8080/"
        },
        "outputId": "5b22c603-889b-454c-a2b4-c4bb35b15db4"
      },
      "execution_count": null,
      "outputs": [
        {
          "output_type": "execute_result",
          "data": {
            "text/plain": [
              "array([[1.e-45, 1.e-45, 1.e-45, ..., 1.e-45, 1.e-45, 1.e-45]],\n",
              "      dtype=float32)"
            ]
          },
          "metadata": {},
          "execution_count": 47
        }
      ]
    },
    {
      "cell_type": "code",
      "source": [
        "img_mask.shape"
      ],
      "metadata": {
        "id": "-zdrKaqkezRn",
        "colab": {
          "base_uri": "https://localhost:8080/"
        },
        "outputId": "7fe5de9b-5ad5-4a6c-9d52-1f60cccb7062"
      },
      "execution_count": null,
      "outputs": [
        {
          "output_type": "execute_result",
          "data": {
            "text/plain": [
              "(1, 723286)"
            ]
          },
          "metadata": {},
          "execution_count": 48
        }
      ]
    }
  ]
}