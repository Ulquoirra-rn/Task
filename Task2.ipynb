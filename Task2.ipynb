{
  "nbformat": 4,
  "nbformat_minor": 0,
  "metadata": {
    "colab": {
      "name": "Task2",
      "private_outputs": true,
      "provenance": [],
      "mount_file_id": "1wJ48-ABMQe-BsSAuAwN37gNUygYjYwnp",
      "authorship_tag": "ABX9TyOgaMw1RQ12r8EPgUnodopS",
      "include_colab_link": true
    },
    "kernelspec": {
      "name": "python3",
      "display_name": "Python 3"
    },
    "language_info": {
      "name": "python"
    },
    "gpuClass": "standard"
  },
  "cells": [
    {
      "cell_type": "markdown",
      "metadata": {
        "id": "view-in-github",
        "colab_type": "text"
      },
      "source": [
        "<a href=\"https://colab.research.google.com/github/Ulquoirra-rn/Task/blob/main/Task2.ipynb\" target=\"_parent\"><img src=\"https://colab.research.google.com/assets/colab-badge.svg\" alt=\"Open In Colab\"/></a>"
      ]
    },
    {
      "cell_type": "code",
      "metadata": {
        "id": "m33y3rtZtHyk"
      },
      "source": [
        "import nibabel as nib\n",
        "img=nib.load('/content/drive/MyDrive/Colab Notebooks/Bsightai/Task2/t1w.nii')"
      ],
      "execution_count": null,
      "outputs": []
    },
    {
      "cell_type": "code",
      "source": [
        "img.shape"
      ],
      "metadata": {
        "id": "XUCBAHr_D-uJ"
      },
      "execution_count": null,
      "outputs": []
    },
    {
      "cell_type": "code",
      "source": [
        "img.affine.shape"
      ],
      "metadata": {
        "id": "f_V9EsKlEsyl"
      },
      "execution_count": null,
      "outputs": []
    },
    {
      "cell_type": "code",
      "source": [
        "type(img)"
      ],
      "metadata": {
        "id": "H4PPG68_E3w5"
      },
      "execution_count": null,
      "outputs": []
    },
    {
      "cell_type": "code",
      "source": [
        "data = img.get_fdata()\n",
        "data.shape"
      ],
      "metadata": {
        "id": "lqmy-kVOFHli"
      },
      "execution_count": null,
      "outputs": []
    },
    {
      "cell_type": "code",
      "source": [
        "type(data)"
      ],
      "metadata": {
        "id": "igiigYpVFgdB"
      },
      "execution_count": null,
      "outputs": []
    },
    {
      "cell_type": "code",
      "source": [
        "!pip install nilearn\n",
        "import nilearn"
      ],
      "metadata": {
        "id": "e_6_Y24Pbzuw"
      },
      "execution_count": null,
      "outputs": []
    },
    {
      "cell_type": "code",
      "source": [
        "from nilearn import plotting"
      ],
      "metadata": {
        "id": "rAkjQI2ebp_1"
      },
      "execution_count": null,
      "outputs": []
    },
    {
      "cell_type": "code",
      "source": [
        "display = plotting.plot_stat_map(img)"
      ],
      "metadata": {
        "id": "UnOcZM19bwwB"
      },
      "execution_count": null,
      "outputs": []
    },
    {
      "cell_type": "code",
      "source": [
        "display.close"
      ],
      "metadata": {
        "id": "Ru_HNGRxcK9X"
      },
      "execution_count": null,
      "outputs": []
    },
    {
      "cell_type": "code",
      "source": [
        "from nilearn.maskers import NiftiMasker"
      ],
      "metadata": {
        "id": "ng0DGLwMcPiR"
      },
      "execution_count": null,
      "outputs": []
    },
    {
      "cell_type": "code",
      "source": [
        "masker = NiftiMasker()\n",
        "img_mask = masker.fit_transform(img)"
      ],
      "metadata": {
        "id": "xF74jzpWdeIh"
      },
      "execution_count": null,
      "outputs": []
    },
    {
      "cell_type": "code",
      "source": [
        "img_mask"
      ],
      "metadata": {
        "id": "9qNH3R2AglYy"
      },
      "execution_count": null,
      "outputs": []
    },
    {
      "cell_type": "code",
      "source": [
        "img_mask.shape"
      ],
      "metadata": {
        "id": "-zdrKaqkezRn"
      },
      "execution_count": null,
      "outputs": []
    }
  ]
}